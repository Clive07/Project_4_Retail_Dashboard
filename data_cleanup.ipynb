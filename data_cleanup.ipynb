{
 "cells": [
  {
   "cell_type": "markdown",
   "metadata": {},
   "source": [
    "# Project 4 - Background Work"
   ]
  },
  {
   "cell_type": "markdown",
   "metadata": {},
   "source": [
    "## Setting Up"
   ]
  },
  {
   "cell_type": "markdown",
   "metadata": {},
   "source": [
    "### imports"
   ]
  },
  {
   "cell_type": "code",
   "execution_count": 50,
   "metadata": {},
   "outputs": [],
   "source": [
    "import openpyxl\n",
    "import os\n",
    "import pandas as pd\n",
    "import petl as etl"
   ]
  },
  {
   "cell_type": "markdown",
   "metadata": {},
   "source": [
    "### create data directory"
   ]
  },
  {
   "cell_type": "code",
   "execution_count": 51,
   "metadata": {},
   "outputs": [],
   "source": [
    "raw_data_path = \"data/raw\"\n",
    "raw_data_directory = []\n",
    "\n",
    "for filename in os.listdir(raw_data_path):\n",
    "    file = os.path.join(raw_data_path, filename)\n",
    "\n",
    "    if os.path.isfile(file):\n",
    "        #print(file)\n",
    "        raw_data_directory.append(file)"
   ]
  },
  {
   "cell_type": "code",
   "execution_count": 52,
   "metadata": {},
   "outputs": [],
   "source": [
    "#raw_data_directory"
   ]
  },
  {
   "cell_type": "markdown",
   "metadata": {},
   "source": [
    "### remove csv duplicates"
   ]
  },
  {
   "cell_type": "code",
   "execution_count": 53,
   "metadata": {},
   "outputs": [
    {
     "data": {
      "text/plain": [
       "94"
      ]
     },
     "execution_count": 53,
     "metadata": {},
     "output_type": "execute_result"
    }
   ],
   "source": [
    "len(raw_data_directory)"
   ]
  },
  {
   "cell_type": "code",
   "execution_count": 54,
   "metadata": {},
   "outputs": [
    {
     "data": {
      "text/plain": [
       "86"
      ]
     },
     "execution_count": 54,
     "metadata": {},
     "output_type": "execute_result"
    }
   ],
   "source": [
    "for file in raw_data_directory:\n",
    "    if str(file).endswith('json'):\n",
    "        if str(file).replace('json', 'csv') in raw_data_directory:\n",
    "            raw_data_directory.remove(str(file).replace('json', 'csv'))\n",
    "\n",
    "len(raw_data_directory)"
   ]
  },
  {
   "cell_type": "code",
   "execution_count": 55,
   "metadata": {},
   "outputs": [],
   "source": [
    "#raw_data_directory"
   ]
  },
  {
   "cell_type": "markdown",
   "metadata": {},
   "source": [
    "### acquire product list"
   ]
  },
  {
   "cell_type": "code",
   "execution_count": 56,
   "metadata": {},
   "outputs": [
    {
     "data": {
      "text/plain": [
       "[('Fairtrade Bananas Loose', 'fruits & vegetables'),\n",
       " ('British carrots loose', 'fruits & vegetables'),\n",
       " ('Onions Loose', 'fruits & vegetables'),\n",
       " ('British baking potatoes loose', 'fruits & vegetables'),\n",
       " ('Red pepper', 'fruits & vegetables'),\n",
       " ('Mixed pepper', 'fruits & vegetables'),\n",
       " ('Brocolli loose', 'fruits & vegetables'),\n",
       " ('Lemon', 'fruits & vegetables'),\n",
       " ('Spring onions bunch', 'fruits & vegetables'),\n",
       " ('Sweet potatoes loose', 'fruits & vegetables'),\n",
       " ('courgette loose', 'fruits & vegetables'),\n",
       " ('baby potatoes', 'fruits & vegetables'),\n",
       " ('british parsnips loose', 'fruits & vegetables'),\n",
       " ('fine beans', 'fruits & vegetables'),\n",
       " ('garlic', 'fruits & vegetables'),\n",
       " ('celery', 'fruits & vegetables'),\n",
       " ('aubergine', 'fruits & vegetables'),\n",
       " ('raspberries', 'fruits & vegetables'),\n",
       " ('british bramley cooking apples', 'fruits & vegetables'),\n",
       " ('easy peeler loose', 'fruits & vegetables'),\n",
       " ('scottish salmon', 'meat & fish'),\n",
       " ('beef mince', 'meat & fish'),\n",
       " ('british fresh chicken brest fillets', 'meat & fish'),\n",
       " ('british fresh chicken thigh fillets', 'meat & fish'),\n",
       " ('large king prawns', 'meat & fish'),\n",
       " ('cod fillets', 'meat & fish'),\n",
       " ('corned beef', 'meat & fish'),\n",
       " ('sea bass fillets', 'meat & fish'),\n",
       " ('diced chicken breast', 'meat & fish'),\n",
       " ('diced vernison', 'meat & fish'),\n",
       " ('chicken sausages', 'meat & fish'),\n",
       " ('beef sausages', 'meat & fish'),\n",
       " ('vernison sausages', 'meat & fish'),\n",
       " ('21 day mature rump steak', 'meat & fish'),\n",
       " ('21 day mature sirlion steak', 'meat & fish'),\n",
       " ('21 day mature ribeye steak', 'meat & fish'),\n",
       " ('salmon fillets', 'meat & fish'),\n",
       " ('british fresh turkey mince', 'meat & fish'),\n",
       " ('fresh turkey steak', 'meat & fish'),\n",
       " ('fresh whole turkey', 'meat & fish'),\n",
       " ('fresh whole chicken', 'meat & fish'),\n",
       " ('Almond milk', 'dairy'),\n",
       " ('Soy Milk', 'dairy'),\n",
       " ('Oats Milk', 'dairy'),\n",
       " ('Organic mILK', 'dairy'),\n",
       " ('Organic Kefir', 'dairy'),\n",
       " ('Plain Greek yoghurt', 'dairy'),\n",
       " ('Blueberry yoghurt', 'dairy'),\n",
       " ('Slightly salted butter', 'dairy'),\n",
       " ('unsalted butter', 'dairy'),\n",
       " ('mature cheddar cheese', 'dairy'),\n",
       " ('mild cheddar cheese', 'dairy'),\n",
       " ('free range large eggs x12', 'dairy'),\n",
       " ('organic raspberry yoghurt', 'dairy'),\n",
       " ('organic soured cream', 'dairy'),\n",
       " ('vanilla yoghurt', 'dairy'),\n",
       " ('semi skimmed milk', 'dairy'),\n",
       " ('skimmed milk', 'dairy'),\n",
       " ('blue stilton cheese', 'dairy'),\n",
       " ('goat cheese', 'dairy'),\n",
       " ('olive oil spread', 'dairy'),\n",
       " ('play station 3', 'gaming'),\n",
       " ('x-box 360', 'gaming'),\n",
       " ('gameboy color', 'gaming'),\n",
       " ('gameboy advance', 'gaming'),\n",
       " ('dual shock controller', 'gaming'),\n",
       " ('gaming mouse', 'gaming'),\n",
       " ('gaming keyboard', 'gaming'),\n",
       " ('minecraft game - xbox', 'gaming'),\n",
       " ('pokemon red', 'gaming'),\n",
       " ('pokemon blue', 'gaming'),\n",
       " ('pokemon gold', 'gaming'),\n",
       " ('pokemon yellow', 'gaming'),\n",
       " ('god of war 2', 'gaming'),\n",
       " ('halo combat evolved', 'gaming'),\n",
       " ('hp dv 2000 laptop', 'computing'),\n",
       " ('hp dv 3000 laptop', 'computing'),\n",
       " ('hp envy laptop', 'computing'),\n",
       " ('dell inspiron laptop', 'computing'),\n",
       " ('apple macbook pro mid 2009', 'computing'),\n",
       " ('apple macbook air mid 2009', 'computing'),\n",
       " ('dyson tower fan', 'appliances'),\n",
       " ('dyson vacuum cleaner', 'appliances'),\n",
       " ('dyson washing machine', 'appliances'),\n",
       " ('bosch washing machine', 'appliances'),\n",
       " ('lg washing machine', 'appliances'),\n",
       " ('samsung washing machine', 'appliances'),\n",
       " ('hotpoint washing machine', 'appliances'),\n",
       " ('jam doughnut', 'bakery'),\n",
       " ('custard doughnut', 'bakery'),\n",
       " ('croisant ', 'bakery'),\n",
       " ('almond croisant', 'bakery'),\n",
       " ('pain au chocolate', 'bakery'),\n",
       " ('pain au raisins', 'bakery'),\n",
       " ('chocolate twist', 'bakery'),\n",
       " ('shortbread', 'bakery'),\n",
       " ('millionaire square', 'bakery'),\n",
       " ('cheese cake', 'bakery'),\n",
       " ('chocolate fudge cake', 'bakery'),\n",
       " ('red velvet cake', 'bakery'),\n",
       " ('macaron - x3', 'bakery'),\n",
       " ('flapjack', 'bakery'),\n",
       " ('denim jeams', 'clothing'),\n",
       " ('denim jacket', 'clothing'),\n",
       " ('brenton t-shirt', 'clothing'),\n",
       " ('white shirt', 'clothing'),\n",
       " ('linen trousers', 'clothing'),\n",
       " ('linen shirt', 'clothing'),\n",
       " ('silk tie', 'clothing'),\n",
       " ('cotton tie', 'clothing'),\n",
       " ('oxford shirt', 'clothing'),\n",
       " ('brenton jumper', 'clothing'),\n",
       " ('silk scarf', 'clothing'),\n",
       " ('plastic sunshades', 'clothing'),\n",
       " ('wellington boots', 'clothing'),\n",
       " ('oxford shoes', 'clothing'),\n",
       " ('wristwatch', 'clothing'),\n",
       " ('classic bowtie', 'clothing'),\n",
       " ('grey blazers', 'clothing'),\n",
       " ('grey cardigan', 'clothing'),\n",
       " ('pink blazers', 'clothing')]"
      ]
     },
     "execution_count": 56,
     "metadata": {},
     "output_type": "execute_result"
    }
   ],
   "source": [
    "# acquire product list from directory\n",
    "product_list = list(\n",
    "    etl.fromcsv('data/other/products_list.csv')\\\n",
    "        .values('product', 'category'))\n",
    "        \n",
    "# print for checking\n",
    "product_list\n"
   ]
  },
  {
   "cell_type": "markdown",
   "metadata": {},
   "source": [
    "### acquire region list"
   ]
  },
  {
   "cell_type": "code",
   "execution_count": 57,
   "metadata": {},
   "outputs": [
    {
     "data": {
      "text/plain": [
       "[('East of England', 'Bedfordshire', 'Bedfordshire store'),\n",
       " ('East of England', 'East Cambridgeshire', 'East Cambridgeshire outlet'),\n",
       " ('West Midlands', 'Warwickshire', 'Warwickshire branch'),\n",
       " ('East Midlands', 'Lincolnshire', 'Lincolnshire store'),\n",
       " ('London', 'Islington', 'Islington branch'),\n",
       " ('North East England', 'Stockton-on-Tees', 'Stockton-on-Tees store'),\n",
       " ('Northern Ireland', 'Belfast', 'Belfast branch'),\n",
       " ('North West England', 'Wyre', 'Wyre branch'),\n",
       " ('South East England', 'Mole Valley', 'Mole Valley store'),\n",
       " ('Scotland', 'Orkney', 'Orkney store'),\n",
       " ('South West England', 'Dorset', 'Dorset outlet'),\n",
       " ('East Midlands', 'Nottinghamshire', 'Nottinghamshire store'),\n",
       " ('Yorkshire and the Humber', 'North Yorkshire', 'North Yorkshire outlet'),\n",
       " ('South East England', 'Reigate and Banstead', 'Reigate and Banstead branch'),\n",
       " ('South East England', 'Epsom and Ewell', 'Epsom and Ewell store'),\n",
       " ('Wales', 'Wrexham', 'Wrexham store'),\n",
       " ('Wales', 'Isle of Anglesey', 'Isle of Anglesey outlet'),\n",
       " ('West Midlands', 'Warwickshire', 'Warwickshire branch'),\n",
       " ('Wales', 'Bridgend', 'Bridgend outlet'),\n",
       " ('Scotland', 'Edinburgh City', 'Edinburgh City branch'),\n",
       " ('South East England', 'Isle of Wight', 'Isle of Wight store'),\n",
       " ('East of England', 'Colchester', 'Colchester outlet'),\n",
       " ('East of England', 'Uttlesford', 'Uttlesford branch'),\n",
       " ('Scotland', 'Glasgow City', 'Glasgow City outlet'),\n",
       " ('Wales', 'Neath Port Talbot', 'Neath Port Talbot outlet'),\n",
       " ('East of England', 'East Cambridgeshire', 'East Cambridgeshire outlet'),\n",
       " ('South West England', 'Forest of Dean', 'Forest of Dean store'),\n",
       " ('East Midlands', 'Rushcliffe', 'Rushcliffe branch'),\n",
       " ('Wales', 'Neath Port Talbot', 'Neath Port Talbot outlet'),\n",
       " ('Wales', 'Ceredigion', 'Ceredigion store'),\n",
       " ('East of England', 'Castle Point', 'Castle Point outlet'),\n",
       " ('East Midlands', 'East Lindsey', 'East Lindsey branch'),\n",
       " ('London', 'Haringey', 'Haringey store'),\n",
       " ('East Midlands', 'East Lindsey', 'East Lindsey branch'),\n",
       " ('London', 'Greater London', 'Greater London branch'),\n",
       " ('South East England', 'Oxford', 'Oxford outlet'),\n",
       " ('Wales', 'Flintshire', 'Flintshire branch'),\n",
       " ('London', 'Hackney', 'Hackney store'),\n",
       " ('North East England', 'Darlington', 'Darlington store'),\n",
       " ('North West England', 'Fylde', 'Fylde outlet'),\n",
       " ('South East England', 'Shepway', 'Shepway store'),\n",
       " ('South East England', 'Bracknell Forest', 'Bracknell Forest store'),\n",
       " ('Scotland', 'East Dunbartonshire', 'East Dunbartonshire branch'),\n",
       " ('West Midlands', 'Lichfield', 'Lichfield outlet'),\n",
       " ('South East England', 'Sevenoaks', 'Sevenoaks branch'),\n",
       " ('London', 'Islington', 'Islington branch'),\n",
       " ('London', 'Greater London', 'Greater London branch'),\n",
       " ('Yorkshire and the Humber', 'Richmondshire', 'Richmondshire outlet'),\n",
       " ('West Midlands', 'Rugby', 'Rugby branch'),\n",
       " ('East Midlands', 'Hinckley and Bosworth', 'Hinckley and Bosworth branch'),\n",
       " ('Wales', 'Powys', 'Powys outlet'),\n",
       " ('East Midlands', 'Lincoln', 'Lincoln branch'),\n",
       " ('South East England', 'West Oxfordshire', 'West Oxfordshire outlet'),\n",
       " ('North West England', 'Lancashire', 'Lancashire store'),\n",
       " ('South East England', 'Fareham', 'Fareham outlet'),\n",
       " ('Wales', 'Swansea', 'Swansea store'),\n",
       " ('North West England', 'Chorley', 'Chorley store'),\n",
       " ('South West England', 'West Somerset', 'West Somerset branch'),\n",
       " ('Scotland', 'Falkirk', 'Falkirk branch'),\n",
       " ('South East England', 'East Sussex', 'East Sussex outlet'),\n",
       " ('London', 'Lambeth', 'Lambeth store'),\n",
       " ('East of England', 'Norfolk', 'Norfolk outlet'),\n",
       " ('Scotland', 'Edinburgh City', 'Edinburgh City branch'),\n",
       " ('East of England', 'East Hertfordshire', 'East Hertfordshire branch'),\n",
       " ('Wales', 'Rhoose', 'Rhoose branch'),\n",
       " ('East Midlands', 'East Lindsey', 'East Lindsey branch'),\n",
       " ('London', 'Newham', 'Newham branch'),\n",
       " ('North East England', 'Tyne and Wear', 'Tyne and Wear outlet'),\n",
       " ('West Midlands', 'Staffordshire', 'Staffordshire store'),\n",
       " ('Scotland', 'Peeblesshire', 'Peeblesshire outlet'),\n",
       " ('London', 'Harrow', 'Harrow outlet'),\n",
       " ('Northern Ireland', 'Armagh', 'Armagh outlet'),\n",
       " ('Scotland', 'Dumfries and Galloway', 'Dumfries and Galloway branch'),\n",
       " ('Yorkshire and the Humber', 'York', 'York outlet'),\n",
       " ('Northern Ireland', 'Ballymoney', 'Ballymoney store'),\n",
       " ('Wales', 'Barry', 'Barry outlet'),\n",
       " ('North West England', 'Cheshire East', 'Cheshire East outlet'),\n",
       " ('North West England', 'Sefton', 'Sefton outlet'),\n",
       " ('East of England', 'Bedford Borough', 'Bedford Borough branch'),\n",
       " ('Scotland', 'Falkirk', 'Falkirk branch'),\n",
       " ('East Midlands', 'Bassetlaw', 'Bassetlaw outlet'),\n",
       " ('East of England', 'St. Edmundsbury', 'St. Edmundsbury branch'),\n",
       " ('Northern Ireland', 'Larne', 'Larne store'),\n",
       " ('Wales', 'Bargoed', 'Bargoed outlet'),\n",
       " ('West Midlands', 'Stoke-on-Trent', 'Stoke-on-Trent store'),\n",
       " ('Yorkshire and the Humber', 'Selby', 'Selby branch'),\n",
       " ('Scotland', 'North Ayrshire', 'North Ayrshire store'),\n",
       " ('South West England', 'East Devon', 'East Devon branch'),\n",
       " ('Scotland', 'Falkirk', 'Falkirk branch'),\n",
       " ('Yorkshire and the Humber', 'North Yorkshire', 'North Yorkshire store'),\n",
       " ('East Midlands', 'Newark and Sherwood', 'Newark and Sherwood store'),\n",
       " ('South East England', 'Kent', 'Kent branch'),\n",
       " ('Scotland', 'Orkney', 'Orkney store'),\n",
       " ('West Midlands', 'Worcestershire', 'Worcestershire branch'),\n",
       " ('South East England', 'Hampshire', 'Hampshire branch'),\n",
       " ('South East England', 'Kent', 'Kent branch'),\n",
       " ('South East England', 'Chiltern', 'Chiltern store'),\n",
       " ('East Midlands', 'South Northamptonshire', 'South Northamptonshire store'),\n",
       " ('South West England', 'West Somerset', 'West Somerset branch'),\n",
       " ('Wales', 'Wrexham', 'Wrexham store')]"
      ]
     },
     "execution_count": 57,
     "metadata": {},
     "output_type": "execute_result"
    }
   ],
   "source": [
    "# acquire branch list from directory\n",
    "branch_list = list(\n",
    "    etl.fromxlsx('data/other/branch_list.xlsx')\\\n",
    "        .values('region', 'county', 'branch_name'))\n",
    "\n",
    "\n",
    "\n",
    "# print for checking\n",
    "branch_list"
   ]
  },
  {
   "cell_type": "markdown",
   "metadata": {},
   "source": [
    "### creation of blank dfs"
   ]
  },
  {
   "cell_type": "code",
   "execution_count": 58,
   "metadata": {},
   "outputs": [],
   "source": [
    "all_branches_df = pd.DataFrame()"
   ]
  },
  {
   "cell_type": "markdown",
   "metadata": {},
   "source": [
    "## Cleanup & Transform Functions"
   ]
  },
  {
   "cell_type": "markdown",
   "metadata": {},
   "source": [
    "### adding product category"
   ]
  },
  {
   "cell_type": "code",
   "execution_count": 59,
   "metadata": {},
   "outputs": [],
   "source": [
    "# add product category function\n",
    "def add_product_category(prv, cur, nxt):\n",
    "    for row in product_list:\n",
    "        if cur.product == row[0]:\n",
    "            return row[1]"
   ]
  },
  {
   "cell_type": "markdown",
   "metadata": {},
   "source": [
    "### adding region & city"
   ]
  },
  {
   "cell_type": "code",
   "execution_count": 60,
   "metadata": {},
   "outputs": [],
   "source": [
    "# add region & city function\n",
    "def add_region_city(table, file):\n",
    "    # acquire city name from file\n",
    "    branch_name = str(file).split('_', 1).pop(1)\\\n",
    "        .rsplit('.', 1).pop(0)\\\n",
    "        .replace('_', ' ')\n",
    "    # check through branch list for a match\n",
    "    for row in branch_list:\n",
    "        if branch_name == row[2]:\n",
    "            table = etl.addfields(table, [('county', row[1]), ('region', row[0])])\n",
    "            return table"
   ]
  },
  {
   "cell_type": "markdown",
   "metadata": {},
   "source": [
    "### cleanup"
   ]
  },
  {
   "cell_type": "markdown",
   "metadata": {},
   "source": [
    "#### fix headers"
   ]
  },
  {
   "cell_type": "code",
   "execution_count": 61,
   "metadata": {},
   "outputs": [],
   "source": [
    "def fix_headers(table):\n",
    "    \n",
    "# if table has the header sku or item.. change to product\n",
    "    if 'sku' in etl.header(table):\n",
    "        table = etl.rename(\n",
    "                        table, \n",
    "                        'sku', 'product')\n",
    "    elif 'item' in etl.header(table):\n",
    "        table = etl.rename(\n",
    "                        table, \n",
    "                        'item', 'product')\n",
    "\n",
    "# rename header to only have the one name (total_quantity_purchase)\n",
    "    if 'quantity' in etl.header(table):\n",
    "        table = etl.rename(\n",
    "                        table,\n",
    "                        'quantity', 'total_quantity_purchased'\n",
    "    )\n",
    "    elif 'total_quantity' in etl.header(table):\n",
    "        table = etl.rename(\n",
    "                        table,\n",
    "                        'total_quantity', 'total_quantity_purchased'\n",
    "    )\n",
    "    elif 'quantity_purchased' in etl.header(table):\n",
    "        table = etl.rename(\n",
    "                        table,\n",
    "                        'quantity_purchased', 'total_quantity_purchased'\n",
    "    )\n",
    "\n",
    "    return table"
   ]
  },
  {
   "cell_type": "markdown",
   "metadata": {},
   "source": [
    "#### dtype conversions"
   ]
  },
  {
   "cell_type": "code",
   "execution_count": 62,
   "metadata": {},
   "outputs": [],
   "source": [
    "def str_conversion(table):\n",
    "    # convert field to int\n",
    "    table = etl.convert(\n",
    "                    table, \n",
    "                    ['total_quantity_purchased'],\n",
    "                    int)\n",
    "\n",
    "# convert field to float\n",
    "# round up field to 2 decimal points\n",
    "    table = etl.convert(\n",
    "                    table, \n",
    "                    'amount_in_gbp',\n",
    "                    lambda cell: round(float(cell), 2))\n",
    "\n",
    "    return table"
   ]
  },
  {
   "cell_type": "markdown",
   "metadata": {},
   "source": [
    "#### father function"
   ]
  },
  {
   "cell_type": "code",
   "execution_count": 63,
   "metadata": {},
   "outputs": [],
   "source": [
    "# cleanup function\n",
    "def table_transform(table, file):\n",
    "\n",
    "# fix miss labelled headers\n",
    "    table = fix_headers(table)\n",
    "\n",
    "# convert field types from string to number\n",
    "    table = str_conversion(table)\n",
    "\n",
    "# adding product categories to table\n",
    "    table = etl.addfieldusingcontext(table, 'product_category', add_product_category)\n",
    "\n",
    "# adding region & city\n",
    "    table = add_region_city(table, file)\n",
    "\n",
    "# return the tabled converted to a df\n",
    "    return etl.todataframe(table)\n"
   ]
  },
  {
   "cell_type": "markdown",
   "metadata": {},
   "source": [
    "## Iterating Through Files"
   ]
  },
  {
   "cell_type": "code",
   "execution_count": 64,
   "metadata": {},
   "outputs": [
    {
     "name": "stdout",
     "output_type": "stream",
     "text": [
      "data/raw\\2012-2020_Armagh_outlet.csv\n",
      "data/raw\\2012-2020_Ballymoney_store.csv\n",
      "data/raw\\2012-2020_Bargoed_outlet.json\n",
      "data/raw\\2012-2020_Bedfordshire_store.json\n",
      "data/raw\\2012-2020_Colchester_outlet.json\n",
      "data/raw\\2012-2020_Darlington_store.csv\n",
      "data/raw\\2012-2020_East_Dunbartonshire_branch.json\n",
      "data/raw\\2012-2020_East_Hertfordshire_branch.json\n",
      "data/raw\\2012-2020_Edinburgh_City_branch.json\n",
      "data/raw\\2012-2020_Glasgow_City_outlet.csv\n",
      "data/raw\\2012-2020_Hackney_store.csv\n",
      "data/raw\\2012-2020_Isle_of_Anglesey_outlet.json\n",
      "data/raw\\2012-2020_Lancashire_store.json\n",
      "data/raw\\2012-2020_Lincolnshire_store.json\n",
      "data/raw\\2012-2020_Neath_Port_Talbot_outlet.json\n",
      "data/raw\\2012-2020_Newark_and_Sherwood_store.json\n",
      "data/raw\\2012-2020_Reigate_and_Banstead_branch.csv\n",
      "data/raw\\2012-2020_Rugby_branch.json\n",
      "data/raw\\2012-2020_Rushcliffe_branch.csv\n",
      "data/raw\\2012-2020_Selby_branch.json\n",
      "data/raw\\2012-2020_Sevenoaks_branch.csv\n",
      "data/raw\\2012-2020_Shepway_store.csv\n",
      "data/raw\\2012-2020_Stockton-on-Tees_store.csv\n",
      "data/raw\\2012-2020_Uttlesford_branch.json\n",
      "data/raw\\2012-2020_West_Oxfordshire_outlet.csv\n",
      "data/raw\\2012-2020_Worcestershire_branch.csv\n",
      "data/raw\\2012-2020_Wrexham_store.json\n",
      "data/raw\\2012-2020_York_outlet.json\n"
     ]
    }
   ],
   "source": [
    "file_range = \"2012\"\n",
    "# for each file in the directory\n",
    "for file in raw_data_directory:\n",
    "\n",
    "        if str(file).split('-').pop(0).endswith(file_range):\n",
    "                print(file)\n",
    "# check if csv file type\n",
    "                if str(file).endswith('csv'):\n",
    "# extract from said type\n",
    "                        current_table = etl.fromcsv(file)\n",
    "# initiate cleanup functions\n",
    "# fix miss labelled headers\n",
    "                        current_table = fix_headers(current_table)\n",
    "\n",
    "# convert field types from string to number\n",
    "                        current_table = str_conversion(current_table)\n",
    "\n",
    "# adding product categories to current_table\n",
    "                        current_table = etl.addfieldusingcontext(current_table, 'product_category', add_product_category)\n",
    "\n",
    "# adding region & city\n",
    "                        current_table = add_region_city(current_table, file)\n",
    "\n",
    "# return the current_tabled converted to a df\n",
    "                        current_df = etl.todataframe(current_table)\n",
    "\n",
    "# append the current df to the total df for branches\n",
    "                        all_branches_df = all_branches_df.append(current_df, ignore_index=True)\n",
    "\n",
    "# in case of other file type\n",
    "                else:\n",
    "# extract from json file type\n",
    "                        current_table = etl.fromjson(file)\n",
    "# initiate cleanup functions\n",
    "# fix miss labelled headers\n",
    "                        current_table = fix_headers(current_table)\n",
    "\n",
    "# convert field types from string to number\n",
    "                        current_table = str_conversion(current_table)\n",
    "\n",
    "# adding product categories to current_table\n",
    "                        current_table = etl.addfieldusingcontext(current_table, 'product_category', add_product_category)\n",
    "\n",
    "# adding region & city\n",
    "                        current_table = add_region_city(current_table, file)\n",
    "\n",
    "# return the current_tabled converted to a df\n",
    "                        current_df = etl.todataframe(current_table)\n",
    "                \n",
    "# append the current df to the total df for branches\n",
    "                        all_branches_df = all_branches_df.append(current_df, ignore_index=True)\n"
   ]
  },
  {
   "cell_type": "code",
   "execution_count": 65,
   "metadata": {},
   "outputs": [
    {
     "data": {
      "text/html": [
       "<div>\n",
       "<style scoped>\n",
       "    .dataframe tbody tr th:only-of-type {\n",
       "        vertical-align: middle;\n",
       "    }\n",
       "\n",
       "    .dataframe tbody tr th {\n",
       "        vertical-align: top;\n",
       "    }\n",
       "\n",
       "    .dataframe thead th {\n",
       "        text-align: right;\n",
       "    }\n",
       "</style>\n",
       "<table border=\"1\" class=\"dataframe\">\n",
       "  <thead>\n",
       "    <tr style=\"text-align: right;\">\n",
       "      <th></th>\n",
       "      <th>year</th>\n",
       "      <th>month</th>\n",
       "      <th>day</th>\n",
       "      <th>hour</th>\n",
       "      <th>product</th>\n",
       "      <th>total_quantity_purchased</th>\n",
       "      <th>amount_in_gbp</th>\n",
       "      <th>product_category</th>\n",
       "      <th>county</th>\n",
       "      <th>region</th>\n",
       "    </tr>\n",
       "  </thead>\n",
       "  <tbody>\n",
       "    <tr>\n",
       "      <th>0</th>\n",
       "      <td>2012</td>\n",
       "      <td>1</td>\n",
       "      <td>10</td>\n",
       "      <td>0</td>\n",
       "      <td>brenton t-shirt</td>\n",
       "      <td>202.0</td>\n",
       "      <td>9502.08</td>\n",
       "      <td>clothing</td>\n",
       "      <td>Armagh</td>\n",
       "      <td>Northern Ireland</td>\n",
       "    </tr>\n",
       "    <tr>\n",
       "      <th>1</th>\n",
       "      <td>2012</td>\n",
       "      <td>1</td>\n",
       "      <td>10</td>\n",
       "      <td>0</td>\n",
       "      <td>salmon fillets</td>\n",
       "      <td>222.0</td>\n",
       "      <td>428.90</td>\n",
       "      <td>meat &amp; fish</td>\n",
       "      <td>Armagh</td>\n",
       "      <td>Northern Ireland</td>\n",
       "    </tr>\n",
       "    <tr>\n",
       "      <th>2</th>\n",
       "      <td>2012</td>\n",
       "      <td>1</td>\n",
       "      <td>10</td>\n",
       "      <td>0</td>\n",
       "      <td>apple macbook air mid 2009</td>\n",
       "      <td>11.0</td>\n",
       "      <td>17556.00</td>\n",
       "      <td>computing</td>\n",
       "      <td>Armagh</td>\n",
       "      <td>Northern Ireland</td>\n",
       "    </tr>\n",
       "    <tr>\n",
       "      <th>3</th>\n",
       "      <td>2012</td>\n",
       "      <td>1</td>\n",
       "      <td>10</td>\n",
       "      <td>0</td>\n",
       "      <td>vanilla yoghurt</td>\n",
       "      <td>17.0</td>\n",
       "      <td>14.28</td>\n",
       "      <td>dairy</td>\n",
       "      <td>Armagh</td>\n",
       "      <td>Northern Ireland</td>\n",
       "    </tr>\n",
       "    <tr>\n",
       "      <th>4</th>\n",
       "      <td>2012</td>\n",
       "      <td>1</td>\n",
       "      <td>10</td>\n",
       "      <td>0</td>\n",
       "      <td>dual shock controller</td>\n",
       "      <td>220.0</td>\n",
       "      <td>9240.00</td>\n",
       "      <td>gaming</td>\n",
       "      <td>Armagh</td>\n",
       "      <td>Northern Ireland</td>\n",
       "    </tr>\n",
       "    <tr>\n",
       "      <th>...</th>\n",
       "      <td>...</td>\n",
       "      <td>...</td>\n",
       "      <td>...</td>\n",
       "      <td>...</td>\n",
       "      <td>...</td>\n",
       "      <td>...</td>\n",
       "      <td>...</td>\n",
       "      <td>...</td>\n",
       "      <td>...</td>\n",
       "      <td>...</td>\n",
       "    </tr>\n",
       "    <tr>\n",
       "      <th>25549408</th>\n",
       "      <td>2020</td>\n",
       "      <td>12</td>\n",
       "      <td>25</td>\n",
       "      <td>23</td>\n",
       "      <td>fresh whole chicken</td>\n",
       "      <td>45.0</td>\n",
       "      <td>63.00</td>\n",
       "      <td>meat &amp; fish</td>\n",
       "      <td>York</td>\n",
       "      <td>Yorkshire and the Humber</td>\n",
       "    </tr>\n",
       "    <tr>\n",
       "      <th>25549409</th>\n",
       "      <td>2020</td>\n",
       "      <td>12</td>\n",
       "      <td>25</td>\n",
       "      <td>23</td>\n",
       "      <td>oxford shirt</td>\n",
       "      <td>35.0</td>\n",
       "      <td>455.00</td>\n",
       "      <td>clothing</td>\n",
       "      <td>York</td>\n",
       "      <td>Yorkshire and the Humber</td>\n",
       "    </tr>\n",
       "    <tr>\n",
       "      <th>25549410</th>\n",
       "      <td>2020</td>\n",
       "      <td>12</td>\n",
       "      <td>25</td>\n",
       "      <td>23</td>\n",
       "      <td>grey blazers</td>\n",
       "      <td>143.0</td>\n",
       "      <td>4862.00</td>\n",
       "      <td>clothing</td>\n",
       "      <td>York</td>\n",
       "      <td>Yorkshire and the Humber</td>\n",
       "    </tr>\n",
       "    <tr>\n",
       "      <th>25549411</th>\n",
       "      <td>2020</td>\n",
       "      <td>12</td>\n",
       "      <td>25</td>\n",
       "      <td>23</td>\n",
       "      <td>gaming mouse</td>\n",
       "      <td>194.0</td>\n",
       "      <td>14550.00</td>\n",
       "      <td>gaming</td>\n",
       "      <td>York</td>\n",
       "      <td>Yorkshire and the Humber</td>\n",
       "    </tr>\n",
       "    <tr>\n",
       "      <th>25549412</th>\n",
       "      <td>2020</td>\n",
       "      <td>12</td>\n",
       "      <td>25</td>\n",
       "      <td>23</td>\n",
       "      <td>gameboy color</td>\n",
       "      <td>172.0</td>\n",
       "      <td>24940.00</td>\n",
       "      <td>gaming</td>\n",
       "      <td>York</td>\n",
       "      <td>Yorkshire and the Humber</td>\n",
       "    </tr>\n",
       "  </tbody>\n",
       "</table>\n",
       "<p>25549413 rows × 10 columns</p>\n",
       "</div>"
      ],
      "text/plain": [
       "          year month day hour                     product  \\\n",
       "0         2012     1  10    0             brenton t-shirt   \n",
       "1         2012     1  10    0              salmon fillets   \n",
       "2         2012     1  10    0  apple macbook air mid 2009   \n",
       "3         2012     1  10    0             vanilla yoghurt   \n",
       "4         2012     1  10    0       dual shock controller   \n",
       "...        ...   ...  ..  ...                         ...   \n",
       "25549408  2020    12  25   23         fresh whole chicken   \n",
       "25549409  2020    12  25   23                oxford shirt   \n",
       "25549410  2020    12  25   23                grey blazers   \n",
       "25549411  2020    12  25   23                gaming mouse   \n",
       "25549412  2020    12  25   23               gameboy color   \n",
       "\n",
       "          total_quantity_purchased  amount_in_gbp product_category  county  \\\n",
       "0                            202.0        9502.08         clothing  Armagh   \n",
       "1                            222.0         428.90      meat & fish  Armagh   \n",
       "2                             11.0       17556.00        computing  Armagh   \n",
       "3                             17.0          14.28            dairy  Armagh   \n",
       "4                            220.0        9240.00           gaming  Armagh   \n",
       "...                            ...            ...              ...     ...   \n",
       "25549408                      45.0          63.00      meat & fish    York   \n",
       "25549409                      35.0         455.00         clothing    York   \n",
       "25549410                     143.0        4862.00         clothing    York   \n",
       "25549411                     194.0       14550.00           gaming    York   \n",
       "25549412                     172.0       24940.00           gaming    York   \n",
       "\n",
       "                            region  \n",
       "0                 Northern Ireland  \n",
       "1                 Northern Ireland  \n",
       "2                 Northern Ireland  \n",
       "3                 Northern Ireland  \n",
       "4                 Northern Ireland  \n",
       "...                            ...  \n",
       "25549408  Yorkshire and the Humber  \n",
       "25549409  Yorkshire and the Humber  \n",
       "25549410  Yorkshire and the Humber  \n",
       "25549411  Yorkshire and the Humber  \n",
       "25549412  Yorkshire and the Humber  \n",
       "\n",
       "[25549413 rows x 10 columns]"
      ]
     },
     "execution_count": 65,
     "metadata": {},
     "output_type": "execute_result"
    }
   ],
   "source": [
    "all_branches_df"
   ]
  },
  {
   "cell_type": "markdown",
   "metadata": {},
   "source": [
    "## space"
   ]
  },
  {
   "cell_type": "code",
   "execution_count": 66,
   "metadata": {},
   "outputs": [],
   "source": [
    "#temp_all_branches_file = pd.read_csv('data/refined/all_branches.csv')\n",
    "\n",
    "#temp_all_branches_file = temp_all_branches_file.append(all_branches_df)\n",
    "\n",
    "#temp_all_branches_file.to_csv('data/refined/all_branches.csv')\n",
    "\n",
    "#temp_all_branches_file\n",
    "\n",
    "#all_branches_df = all_branches_df.set_index(['region', 'county', 'year'])\n",
    "\n",
    "all_branches_df.to_csv('data/refined/branches_established_in_2012.csv', index=False)"
   ]
  }
 ],
 "metadata": {
  "interpreter": {
   "hash": "897084670679e532d4747db6e12278e58d6a827e24a9875614577ac8acaafdb5"
  },
  "kernelspec": {
   "display_name": "Python 3.9.7 64-bit ('.env': venv)",
   "language": "python",
   "name": "python3"
  },
  "language_info": {
   "codemirror_mode": {
    "name": "ipython",
    "version": 3
   },
   "file_extension": ".py",
   "mimetype": "text/x-python",
   "name": "python",
   "nbconvert_exporter": "python",
   "pygments_lexer": "ipython3",
   "version": "3.9.7"
  },
  "orig_nbformat": 4
 },
 "nbformat": 4,
 "nbformat_minor": 2
}
