{
 "cells": [
  {
   "cell_type": "markdown",
   "metadata": {},
   "source": [
    "# data manipulation"
   ]
  },
  {
   "cell_type": "markdown",
   "metadata": {},
   "source": [
    "## setting up"
   ]
  },
  {
   "cell_type": "markdown",
   "metadata": {},
   "source": [
    "### installs & imports"
   ]
  },
  {
   "cell_type": "code",
   "execution_count": 33,
   "metadata": {},
   "outputs": [
    {
     "name": "stdout",
     "output_type": "stream",
     "text": [
      "Requirement already satisfied: openpyxl in c:\\python39\\lib\\site-packages (3.0.9)\n",
      "Requirement already satisfied: et-xmlfile in c:\\python39\\lib\\site-packages (from openpyxl) (1.1.0)\n",
      "Requirement already satisfied: pandas in c:\\python39\\lib\\site-packages (1.3.4)\n",
      "Requirement already satisfied: pytz>=2017.3 in c:\\python39\\lib\\site-packages (from pandas) (2021.3)\n",
      "Requirement already satisfied: python-dateutil>=2.7.3 in c:\\python39\\lib\\site-packages (from pandas) (2.8.2)\n",
      "Requirement already satisfied: numpy>=1.17.3 in c:\\python39\\lib\\site-packages (from pandas) (1.21.4)\n",
      "Requirement already satisfied: six>=1.5 in c:\\python39\\lib\\site-packages (from python-dateutil>=2.7.3->pandas) (1.16.0)\n",
      "Requirement already satisfied: petl in c:\\python39\\lib\\site-packages (1.7.4)\n"
     ]
    }
   ],
   "source": [
    "! pip install openpyxl\n",
    "! pip install pandas\n",
    "! pip install petl"
   ]
  },
  {
   "cell_type": "code",
   "execution_count": 34,
   "metadata": {},
   "outputs": [],
   "source": [
    "import openpyxl\n",
    "import pandas as pd\n",
    "import petl as etl"
   ]
  },
  {
   "cell_type": "markdown",
   "metadata": {},
   "source": [
    "### Expenses Retrieval & Prep"
   ]
  },
  {
   "cell_type": "code",
   "execution_count": 35,
   "metadata": {},
   "outputs": [],
   "source": [
    "# acquire the expense file\n",
    "expenses_file = pd.read_excel('data/other/branch_expenses.xlsx')\n",
    "\n",
    "# group via the county and acquire the sum\n",
    "county_expenses = expenses_file.groupby(['county']).sum()\n",
    "\n",
    "\n",
    "# create a new column which contains the total expenses\n",
    "county_expenses['total_expenses'] = county_expenses['operational_cost'] \\\n",
    "                                    + county_expenses['staff_bonuses'] \\\n",
    "                                    + county_expenses['misc_expenses'] \\\n",
    "                                    + county_expenses['waste_cost']\n",
    "\n",
    "# reset the index\n",
    "county_expenses = county_expenses.reset_index()"
   ]
  },
  {
   "cell_type": "markdown",
   "metadata": {},
   "source": [
    "### Complete Set of Records Retrieval & Prep"
   ]
  },
  {
   "cell_type": "code",
   "execution_count": 36,
   "metadata": {},
   "outputs": [],
   "source": [
    "# majority of path and file name\n",
    "incomplete_path = 'data/refined/branches_established_in_'\n",
    "\n",
    "# one large df containing all cleaned data entries\n",
    "complete_set = pd.read_csv(f'{incomplete_path}2010.csv').append(\\\n",
    "            pd.read_csv(f'{incomplete_path}2011.csv'), ignore_index=True).append(\\\n",
    "            pd.read_csv(f'{incomplete_path}2012.csv'), ignore_index=True)"
   ]
  },
  {
   "cell_type": "code",
   "execution_count": 37,
   "metadata": {},
   "outputs": [],
   "source": [
    "# container df for 5 best & worst products per county & region\n",
    "best_and_worst_products_regional = pd.DataFrame()\n",
    "best_and_worst_products_per_county = pd.DataFrame()\n",
    "\n",
    "# container df for best & worst prod categories per county & region\n",
    "best_and_worst_prod_categories_regional = pd.DataFrame()\n",
    "best_and_worst_prod_categories_per_county = pd.DataFrame()\n",
    "\n",
    "# container df for performance of regions\n",
    "regional_performance = pd.DataFrame()\n",
    "# container df for best & worst performed counties\n",
    "best_and_worst_performed_counties = pd.DataFrame()\n",
    "\n",
    "# container df for the best branches hourly sales\n",
    "best_branches_hourly_sales = pd.DataFrame()\n",
    "\n",
    "# container df for the most & least profitable branches\n",
    "most_and_least_profitable_branches = pd.DataFrame()"
   ]
  },
  {
   "cell_type": "markdown",
   "metadata": {},
   "source": [
    "### iterating & saving"
   ]
  },
  {
   "cell_type": "code",
   "execution_count": 38,
   "metadata": {},
   "outputs": [],
   "source": [
    "for region in complete_set.region.unique():\n",
    "    # create a temp df with current region\n",
    "    current_region = complete_set[complete_set.region == region]\n",
    "\n",
    "    # create a temp df grouping previous via the product, sort descendingly by quantity sold\n",
    "    current_regions_products = current_region.groupby(['region', 'product']).\\\n",
    "                                                sum().sort_values('total_quantity_purchased', ascending=False)\n",
    "\n",
    "    # append the first and last 5 entries to regional product df\n",
    "    best_and_worst_products_regional = best_and_worst_products_regional.\\\n",
    "                                        append(current_regions_products.head(5).\\\n",
    "                                        append(current_regions_products.tail(5)))\n",
    "\n",
    "    # create a temp df grouping current region by prod category, sorted descendingly by quantity sold\n",
    "    current_regions_prod_categorys = current_region.groupby(['region', 'product_category']).\\\n",
    "                                                        sum().sort_values('total_quantity_purchased', ascending=False)\n",
    "\n",
    "    # append the current regions prod categories sales to regional prod category df\n",
    "    best_and_worst_prod_categories_regional = best_and_worst_prod_categories_regional.\\\n",
    "                                                append(current_regions_prod_categorys)\n",
    "\n",
    "    # create a temp df grouped by region\n",
    "    current_regions_performance = current_region.groupby('region').sum()\n",
    "\n",
    "    # append the current regions performance to regional performance df\n",
    "    regional_performance = regional_performance.append(current_regions_performance)\n",
    "\n",
    "    for county in current_region.county.unique():\n",
    "        # create a temp df with current county\n",
    "        current_county = current_region[current_region.county == county]\n",
    "\n",
    "        # create a temp df grouping previous via the product, sort descendingly by quantity sold\n",
    "        current_counties_products = current_county.groupby(['county', 'product']).\\\n",
    "                                                sum().sort_values('total_quantity_purchased', ascending=False)\n",
    "\n",
    "        # append the first and last 5 entries to all counties product df\n",
    "        best_and_worst_products_per_county = best_and_worst_products_per_county.\\\n",
    "                                        append(current_counties_products.head(5).\\\n",
    "                                        append(current_counties_products.tail(5)))\n",
    "\n",
    "        # create a temp df grouping current county by prod category, sorted descendingly by quantity sold\n",
    "        current_counties_prod_categorys = current_county.groupby(['county', 'product_category']).\\\n",
    "                                                        sum().sort_values('total_quantity_purchased', ascending=False)\n",
    "\n",
    "        # append the current counties prod categories sales to all counties prod category df\n",
    "        best_and_worst_prod_categories_per_county = best_and_worst_prod_categories_per_county.\\\n",
    "                                                append(current_counties_prod_categorys)\n",
    "\n",
    "        # create a temp df grouped by county\n",
    "        current_counties_performance = current_county.groupby('county').sum()\n",
    "\n",
    "        # append the current counties performance to per county performance df\n",
    "        best_and_worst_performed_counties = best_and_worst_performed_counties.append(current_counties_performance)\n",
    "\n",
    "\n",
    "# thin down performed counties df to top and bottom 10 after being sorted\n",
    "best_and_worst_performed_counties = best_and_worst_performed_counties.\\\n",
    "                                        sort_values(['total_quantity_purchased', 'amount_in_gbp'], ascending=False)\n",
    "\n",
    "best_and_worst_performed_counties = best_and_worst_performed_counties.head(10).\\\n",
    "                                        append(best_and_worst_performed_counties.tail(10))"
   ]
  },
  {
   "cell_type": "code",
   "execution_count": 39,
   "metadata": {},
   "outputs": [],
   "source": [
    "# acquire the best performed counties\n",
    "list_of_best_counties = list(best_and_worst_performed_counties.head(10).reset_index().county)\n",
    "\n",
    "# fill empty best_branches_hourly sales df with only those counties grouped by each hour and sorted\n",
    "best_branches_hourly_sales = complete_set[complete_set.county.isin(list_of_best_counties)].\\\n",
    "                                groupby(['region', 'county', 'hour']).sum().\\\n",
    "                                sort_values(['county', 'hour'], ascending=True)"
   ]
  },
  {
   "cell_type": "code",
   "execution_count": 40,
   "metadata": {},
   "outputs": [],
   "source": [
    "# acquire list of total expenses for each county which has been sorted previously via county name\n",
    "list_of_expenses = list(county_expenses.total_expenses)\n",
    "\n",
    "# create temp df from counties of complete set\n",
    "temp_counties_df = complete_set.groupby(['region', 'county']).sum().reset_index()\n",
    "\n",
    "# add new column which is each counties expense\n",
    "temp_counties_df['total_expenses'] = list_of_expenses\n",
    "\n",
    "# add another column called profits which is a sum of two other cols\n",
    "temp_counties_df['total_profits'] = temp_counties_df['amount_in_gbp'] - temp_counties_df['total_expenses']\n",
    "\n",
    "# sort temporary df based on total_profits\n",
    "temp_counties_df = temp_counties_df.sort_values('total_profits')\n",
    "\n",
    "# append top and bottom 10 profitable counties to empty df\n",
    "most_and_least_profitable_branches = most_and_least_profitable_branches.\\\n",
    "                                        append(temp_counties_df.head(10).\\\n",
    "                                        append(temp_counties_df.tail(10)))"
   ]
  },
  {
   "cell_type": "markdown",
   "metadata": {},
   "source": [
    "### saving"
   ]
  },
  {
   "cell_type": "code",
   "execution_count": 41,
   "metadata": {},
   "outputs": [],
   "source": [
    "# file path for files\n",
    "file_path = 'data/refined/results/'\n",
    "# saving products per region\n",
    "best_and_worst_products_regional.to_csv(f'{file_path}products_regional.csv')\n",
    "# saving products per county\n",
    "best_and_worst_products_per_county.to_csv(f'{file_path}products_per_county.csv')\n",
    "# saving prod category per region\n",
    "best_and_worst_prod_categories_regional.to_csv(f'{file_path}prod_categories_regional.csv')\n",
    "# save prod category per county\n",
    "best_and_worst_prod_categories_per_county.to_csv(f'{file_path}prod_categories_per_county.csv')\n",
    "# save regional performance\n",
    "regional_performance.to_csv(f'{file_path}regional_performance.csv')\n",
    "# save per county performance\n",
    "best_and_worst_performed_counties.to_csv(f'{file_path}top10_bottom10_performed_counties.csv')\n",
    "# save best branches hourly sales\n",
    "best_branches_hourly_sales.to_csv(f'{file_path}top10_counties_hourly_sales.csv')\n",
    "# save profit results\n",
    "most_and_least_profitable_branches.to_csv(f'{file_path}top10_bottom10_profitable_counties.csv', index=False)"
   ]
  }
 ],
 "metadata": {
  "interpreter": {
   "hash": "897084670679e532d4747db6e12278e58d6a827e24a9875614577ac8acaafdb5"
  },
  "kernelspec": {
   "display_name": "Python 3.9.7 64-bit ('.env': venv)",
   "language": "python",
   "name": "python3"
  },
  "language_info": {
   "codemirror_mode": {
    "name": "ipython",
    "version": 3
   },
   "file_extension": ".py",
   "mimetype": "text/x-python",
   "name": "python",
   "nbconvert_exporter": "python",
   "pygments_lexer": "ipython3",
   "version": "3.9.7"
  },
  "orig_nbformat": 4
 },
 "nbformat": 4,
 "nbformat_minor": 2
}
